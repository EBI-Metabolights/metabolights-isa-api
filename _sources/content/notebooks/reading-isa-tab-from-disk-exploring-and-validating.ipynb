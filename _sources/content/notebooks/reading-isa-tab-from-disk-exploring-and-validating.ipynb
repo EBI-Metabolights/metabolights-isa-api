{
 "cells": [
  {
   "cell_type": "markdown",
   "metadata": {},
   "source": [
    "# Reading ISA-Tab from files and Validating ISA-Tab files "
   ]
  },
  {
   "cell_type": "markdown",
   "metadata": {},
   "source": [
    "## Abstract:\n",
    "\n",
    "The aim of this notebook is to:\n",
    "   - show essential function to read and load an ISA-tab file in memory.\n",
    "   - navigate key objects and pull key attributes.\n",
    "   - learn how to invoke the ISA-tab validation function.\n",
    "   - interpret the output of the validation report.\n"
   ]
  },
  {
   "cell_type": "markdown",
   "metadata": {},
   "source": [
    "## 1. Getting the tools"
   ]
  },
  {
   "cell_type": "code",
   "execution_count": null,
   "metadata": {},
   "outputs": [],
   "source": [
    "# If executing the notebooks on `Google Colab`,uncomment the following command \n",
    "# and run it to install the required python libraries. Also, make the test datasets available.\n",
    "\n",
    "# !pip install -r requirements.txt"
   ]
  },
  {
   "cell_type": "code",
   "execution_count": null,
   "metadata": {},
   "outputs": [],
   "source": [
    "import isatools\n",
    "import os\n",
    "import sys\n",
    "from isatools import isatab"
   ]
  },
  {
   "cell_type": "markdown",
   "metadata": {},
   "source": [
    "## 2. Reading and loading an ISA Investigation in memory from an ISA-Tab instance"
   ]
  },
  {
   "cell_type": "code",
   "execution_count": null,
   "metadata": {},
   "outputs": [],
   "source": [
    "with open(os.path.join('./BII-S-3', 'i_gilbert.txt')) as fp:\n",
    "            ISA = isatab.load(fp)"
   ]
  },
  {
   "cell_type": "markdown",
   "metadata": {},
   "source": [
    "### Let's check the description of the first study object present in an ISA Investigation object"
   ]
  },
  {
   "cell_type": "code",
   "execution_count": null,
   "metadata": {},
   "outputs": [],
   "source": [
    "ISA.studies[0].description"
   ]
  },
  {
   "cell_type": "markdown",
   "metadata": {},
   "source": [
    "### Let's check the protocols declared in ISA the study (using a python list comprehension):"
   ]
  },
  {
   "cell_type": "code",
   "execution_count": null,
   "metadata": {},
   "outputs": [],
   "source": [
    "[protocol.description for protocol in ISA.studies[0].protocols]"
   ]
  },
  {
   "cell_type": "markdown",
   "metadata": {},
   "source": [
    "### Let's now checks the ISA Assay Measurement and Technology Types  are used in this ISA Study object"
   ]
  },
  {
   "cell_type": "code",
   "execution_count": null,
   "metadata": {},
   "outputs": [],
   "source": [
    "[\n",
    "    assay.measurement_type.term + \" using \" + assay.technology_type.term  for assay in ISA.studies[0].assays\n",
    "]"
   ]
  },
  {
   "cell_type": "markdown",
   "metadata": {},
   "source": [
    "### Let's now check the `ISA Study Source` Material:"
   ]
  },
  {
   "cell_type": "code",
   "execution_count": null,
   "metadata": {},
   "outputs": [],
   "source": [
    "[source.name for source in ISA.studies[0].sources]"
   ]
  },
  {
   "cell_type": "markdown",
   "metadata": {},
   "source": [
    "#### Let's check what is the first `ISA Study Source property`:"
   ]
  },
  {
   "cell_type": "code",
   "execution_count": null,
   "metadata": {},
   "outputs": [],
   "source": [
    "# here, we get all the characteristics of the first Source object\n",
    "first_source_characteristics = ISA.studies[0].sources[0].characteristics"
   ]
  },
  {
   "cell_type": "code",
   "execution_count": null,
   "metadata": {},
   "outputs": [],
   "source": [
    "first_source_characteristics[0].category.term"
   ]
  },
  {
   "cell_type": "markdown",
   "metadata": {},
   "source": [
    "#### Let's now check what is the `value` associated with that first `ISA Study Source property`:"
   ]
  },
  {
   "cell_type": "code",
   "execution_count": null,
   "metadata": {},
   "outputs": [],
   "source": [
    "first_source_characteristics[0].value.term"
   ]
  },
  {
   "cell_type": "markdown",
   "metadata": {},
   "source": [
    "#### Let's now check what are all the properties associated with this first `ISA Study Source`"
   ]
  },
  {
   "cell_type": "code",
   "execution_count": null,
   "metadata": {},
   "outputs": [],
   "source": [
    "[char.category.term for char in first_source_characteristics]"
   ]
  },
  {
   "cell_type": "markdown",
   "metadata": {},
   "source": [
    "#### And the corresponding values are:"
   ]
  },
  {
   "cell_type": "code",
   "execution_count": null,
   "metadata": {},
   "outputs": [],
   "source": [
    "[char.value for char in first_source_characteristics]"
   ]
  },
  {
   "cell_type": "markdown",
   "metadata": {},
   "source": [
    "## 3. Invoking the python ISA-Tab Validator"
   ]
  },
  {
   "cell_type": "code",
   "execution_count": null,
   "metadata": {},
   "outputs": [],
   "source": [
    "my_json_report_bii_i_1 = isatab.validate(open(os.path.join('./BII-I-1/', 'i_investigation.txt')))"
   ]
  },
  {
   "cell_type": "code",
   "execution_count": null,
   "metadata": {},
   "outputs": [],
   "source": [
    "my_json_report_bii_s_3 = isatab.validate(open(os.path.join('./BII-S-3/', 'i_gilbert.txt')))"
   ]
  },
  {
   "cell_type": "code",
   "execution_count": null,
   "metadata": {},
   "outputs": [],
   "source": [
    "my_json_report_bii_s_4 = isatab.validate(open(os.path.join('./BII-S-4/', 'i_investigation.txt')))"
   ]
  },
  {
   "cell_type": "code",
   "execution_count": 16,
   "metadata": {},
   "outputs": [
    {
     "name": "stderr",
     "output_type": "stream",
     "text": [
      "2021-02-11 13:21:09,102 [WARNING]: isatab.py(check_protocol_parameter_usage:2919) >> (W) Some protocol parameters declared in the investigation file are not used in any assay file: ['base caller']\n",
      "2021-02-11 13:21:09,104 [INFO]: isatab.py(validate:4219) >> Finished prechecks...\n",
      "2021-02-11 13:21:09,105 [INFO]: isatab.py(validate:4220) >> Loading configurations found in /Users/massi/.pyenv/versions/3.9.1/envs/isa-cookbook-3.9.1/src/isatools/isatools/resources/config/xml\n",
      "2021-02-11 13:21:09,133 [INFO]: isatab.py(validate:4225) >> Using configurations found in /Users/massi/.pyenv/versions/3.9.1/envs/isa-cookbook-3.9.1/src/isatools/isatools/resources/config/xml\n",
      "2021-02-11 13:21:09,134 [INFO]: isatab.py(validate:4227) >> Checking investigation file against configuration...\n",
      "2021-02-11 13:21:09,135 [WARNING]: isatab.py(check_section_against_required_fields_one_value:3353) >> (W) A property value in Investigation Title of investigation file at column 1 is required\n",
      "2021-02-11 13:21:09,136 [WARNING]: isatab.py(check_section_against_required_fields_one_value:3353) >> (W) A property value in Investigation Description of investigation file at column 1 is required\n",
      "2021-02-11 13:21:09,137 [WARNING]: isatab.py(check_section_against_required_fields_one_value:3353) >> (W) A property value in Study Publication DOI of investigation file at column 1 is required\n",
      "2021-02-11 13:21:09,141 [WARNING]: isatab.py(check_section_against_required_fields_one_value:3353) >> (W) A property value in Study Person Mid Initials of investigation file at column 1 is required\n",
      "2021-02-11 13:21:09,142 [WARNING]: isatab.py(check_section_against_required_fields_one_value:3353) >> (W) A property value in Study Person Mid Initials of investigation file at column 2 is required\n",
      "2021-02-11 13:21:09,143 [WARNING]: isatab.py(check_section_against_required_fields_one_value:3353) >> (W) A property value in Study Person Mid Initials of investigation file at column 3 is required\n",
      "2021-02-11 13:21:09,143 [WARNING]: isatab.py(check_section_against_required_fields_one_value:3353) >> (W) A property value in Study Person Mid Initials of investigation file at column 4 is required\n",
      "2021-02-11 13:21:09,144 [WARNING]: isatab.py(check_section_against_required_fields_one_value:3353) >> (W) A property value in Study Person Mid Initials of investigation file at column 5 is required\n",
      "2021-02-11 13:21:09,146 [WARNING]: isatab.py(check_section_against_required_fields_one_value:3353) >> (W) A property value in Study Person Mid Initials of investigation file at column 6 is required\n",
      "2021-02-11 13:21:09,147 [WARNING]: isatab.py(check_section_against_required_fields_one_value:3353) >> (W) A property value in Study Person Mid Initials of investigation file at column 7 is required\n",
      "2021-02-11 13:21:09,148 [WARNING]: isatab.py(check_section_against_required_fields_one_value:3353) >> (W) A property value in Study Person Mid Initials of investigation file at column 8 is required\n",
      "2021-02-11 13:21:09,149 [WARNING]: isatab.py(check_section_against_required_fields_one_value:3353) >> (W) A property value in Study Person Mid Initials of investigation file at column 9 is required\n",
      "2021-02-11 13:21:09,149 [WARNING]: isatab.py(check_section_against_required_fields_one_value:3353) >> (W) A property value in Study Person Mid Initials of investigation file at column 10 is required\n",
      "2021-02-11 13:21:09,150 [INFO]: isatab.py(validate:4230) >> Finished checking investigation file\n",
      "2021-02-11 13:21:09,152 [INFO]: isatab.py(validate:4249) >> Loading... s_BII-S-7.txt\n",
      "2021-02-11 13:21:09,169 [INFO]: isatab.py(validate:4255) >> Validating s_BII-S-7.txt against default study table configuration\n",
      "2021-02-11 13:21:09,170 [INFO]: isatab.py(validate:4257) >> Checking Factor Value presence...\n",
      "2021-02-11 13:21:09,177 [INFO]: isatab.py(validate:4260) >> Checking required fields...\n",
      "2021-02-11 13:21:09,178 [INFO]: isatab.py(validate:4263) >> Checking generic fields...\n",
      "2021-02-11 13:21:09,196 [INFO]: isatab.py(validate:4271) >> Checking unit fields...\n",
      "2021-02-11 13:21:09,197 [INFO]: isatab.py(validate:4278) >> Checking protocol fields...\n",
      "2021-02-11 13:21:09,198 [INFO]: isatab.py(validate:4288) >> Checking ontology fields...\n",
      "2021-02-11 13:21:09,209 [INFO]: isatab.py(validate:4298) >> Checking study group size...\n",
      "2021-02-11 13:21:09,211 [INFO]: isatab.py(validate:4302) >> Finished validation on s_BII-S-7.txt\n",
      "2021-02-11 13:21:09,213 [INFO]: isatab.py(validate:4339) >> Loading... a_matteo-assay-Gx.txt\n",
      "2021-02-11 13:21:09,223 [INFO]: isatab.py(validate:4347) >> Validating a_matteo-assay-Gx.txt against assay table configuration (environmental gene survey, nucleotide sequencing)...\n",
      "2021-02-11 13:21:09,224 [INFO]: isatab.py(validate:4353) >> Checking Factor Value presence...\n",
      "2021-02-11 13:21:09,224 [INFO]: isatab.py(validate:4357) >> Checking required fields...\n",
      "2021-02-11 13:21:09,226 [INFO]: isatab.py(validate:4360) >> Checking generic fields...\n",
      "2021-02-11 13:21:09,227 [WARNING]: isatab.py(check_single_field:3818) >> (W) Invalid value 'V6 and V5' for type 'list' of the field 'Parameter Value[target_subfragment]'\n",
      "2021-02-11 13:21:09,228 [WARNING]: isatab.py(check_single_field:3822) >> (W) Value must be one of: V6,V9,ITS\n",
      "2021-02-11 13:21:09,247 [WARNING]: isatab.py(validate:4364) >> (W) There are some field value inconsistencies in a_matteo-assay-Gx.txt against ('environmental gene survey', 'nucleotide sequencing') configuration\n",
      "2021-02-11 13:21:09,247 [INFO]: isatab.py(validate:4371) >> Checking unit fields...\n",
      "2021-02-11 13:21:09,249 [INFO]: isatab.py(validate:4381) >> Checking protocol fields...\n",
      "2021-02-11 13:21:09,253 [INFO]: isatab.py(validate:4393) >> Checking ontology fields...\n",
      "2021-02-11 13:21:09,254 [INFO]: isatab.py(validate:4406) >> Checking study group size...\n",
      "2021-02-11 13:21:09,255 [INFO]: isatab.py(validate:4410) >> Finished validation on a_matteo-assay-Gx.txt\n",
      "2021-02-11 13:21:09,256 [INFO]: isatab.py(validate:4416) >> Checking consistencies between study sample table and assay tables...\n",
      "2021-02-11 13:21:09,257 [INFO]: isatab.py(validate:4421) >> Finished checking study sample table against assay tables...\n",
      "2021-02-11 13:21:10,110 [INFO]: utils.py(detect_isatab_process_pooling:76) >> Checking s_BII-S-7.txt\n",
      "2021-02-11 13:21:10,305 [INFO]: utils.py(detect_isatab_process_pooling:85) >> Checking a_matteo-assay-Gx.txt\n",
      "2021-02-11 13:21:10,669 [INFO]: utils.py(detect_graph_process_pooling:56) >> Possible process pooling detected on:  PCR amplification\n",
      "2021-02-11 13:21:10,671 [INFO]: utils.py(detect_graph_process_pooling:56) >> Possible process pooling detected on:  PCR amplification\n",
      "2021-02-11 13:21:10,672 [INFO]: utils.py(detect_graph_process_pooling:56) >> Possible process pooling detected on:  PCR amplification\n",
      "2021-02-11 13:21:10,674 [INFO]: utils.py(detect_graph_process_pooling:56) >> Possible process pooling detected on:  PCR amplification\n",
      "2021-02-11 13:21:10,676 [INFO]: utils.py(detect_graph_process_pooling:56) >> Possible process pooling detected on:  PCR amplification\n",
      "2021-02-11 13:21:10,678 [INFO]: utils.py(detect_graph_process_pooling:56) >> Possible process pooling detected on:  PCR amplification\n",
      "2021-02-11 13:21:10,680 [INFO]: utils.py(detect_graph_process_pooling:56) >> Possible process pooling detected on:  PCR amplification\n",
      "2021-02-11 13:21:10,682 [INFO]: utils.py(detect_graph_process_pooling:56) >> Possible process pooling detected on:  PCR amplification\n",
      "2021-02-11 13:21:10,684 [INFO]: utils.py(detect_graph_process_pooling:56) >> Possible process pooling detected on:  PCR amplification\n",
      "2021-02-11 13:21:10,686 [INFO]: utils.py(detect_graph_process_pooling:56) >> Possible process pooling detected on:  PCR amplification\n",
      "2021-02-11 13:21:10,688 [INFO]: utils.py(detect_graph_process_pooling:56) >> Possible process pooling detected on:  PCR amplification\n",
      "2021-02-11 13:21:10,690 [INFO]: utils.py(detect_graph_process_pooling:56) >> Possible process pooling detected on:  PCR amplification\n",
      "2021-02-11 13:21:10,692 [INFO]: utils.py(detect_graph_process_pooling:56) >> Possible process pooling detected on:  PCR amplification\n",
      "2021-02-11 13:21:10,694 [INFO]: utils.py(detect_graph_process_pooling:56) >> Possible process pooling detected on:  PCR amplification\n",
      "2021-02-11 13:21:10,697 [INFO]: utils.py(detect_graph_process_pooling:56) >> Possible process pooling detected on:  PCR amplification\n"
     ]
    },
    {
     "name": "stderr",
     "output_type": "stream",
     "text": [
      "2021-02-11 13:21:10,699 [INFO]: utils.py(detect_graph_process_pooling:56) >> Possible process pooling detected on:  PCR amplification\n",
      "2021-02-11 13:21:10,701 [INFO]: utils.py(detect_graph_process_pooling:56) >> Possible process pooling detected on:  PCR amplification\n",
      "2021-02-11 13:21:10,704 [INFO]: utils.py(detect_graph_process_pooling:56) >> Possible process pooling detected on:  PCR amplification\n",
      "2021-02-11 13:21:10,706 [INFO]: utils.py(detect_graph_process_pooling:56) >> Possible process pooling detected on:  PCR amplification\n",
      "2021-02-11 13:21:10,708 [INFO]: utils.py(detect_graph_process_pooling:56) >> Possible process pooling detected on:  PCR amplification\n",
      "2021-02-11 13:21:10,711 [INFO]: utils.py(detect_graph_process_pooling:56) >> Possible process pooling detected on:  PCR amplification\n",
      "2021-02-11 13:21:10,713 [INFO]: utils.py(detect_graph_process_pooling:56) >> Possible process pooling detected on:  PCR amplification\n",
      "2021-02-11 13:21:10,716 [INFO]: utils.py(detect_graph_process_pooling:56) >> Possible process pooling detected on:  PCR amplification\n",
      "2021-02-11 13:21:10,718 [INFO]: utils.py(detect_graph_process_pooling:56) >> Possible process pooling detected on:  PCR amplification\n",
      "2021-02-11 13:21:10,720 [INFO]: utils.py(detect_graph_process_pooling:56) >> Possible process pooling detected on:  PCR amplification\n",
      "2021-02-11 13:21:10,723 [INFO]: utils.py(detect_graph_process_pooling:56) >> Possible process pooling detected on:  PCR amplification\n",
      "2021-02-11 13:21:10,724 [INFO]: utils.py(detect_graph_process_pooling:56) >> Possible process pooling detected on:  PCR amplification\n",
      "2021-02-11 13:21:10,727 [INFO]: utils.py(detect_graph_process_pooling:56) >> Possible process pooling detected on:  PCR amplification\n",
      "2021-02-11 13:21:10,730 [INFO]: utils.py(detect_graph_process_pooling:56) >> Possible process pooling detected on:  PCR amplification\n",
      "2021-02-11 13:21:10,765 [INFO]: isatab.py(validate:4434) >> Finished validation...\n"
     ]
    }
   ],
   "source": [
    "my_json_report_bii_s_7 = isatab.validate(open(os.path.join('./BII-S-7/', 'i_matteo.txt')))"
   ]
  },
  {
   "cell_type": "code",
   "execution_count": 17,
   "metadata": {},
   "outputs": [
    {
     "data": {
      "text/plain": [
       "{'errors': [],\n",
       " 'warnings': [{'message': 'A required property is missing',\n",
       "   'supplemental': 'A property value in Investigation Title of investigation file at column 1 is required',\n",
       "   'code': 4003},\n",
       "  {'message': 'A required property is missing',\n",
       "   'supplemental': 'A property value in Investigation Description of investigation file at column 1 is required',\n",
       "   'code': 4003},\n",
       "  {'message': 'A required property is missing',\n",
       "   'supplemental': 'A property value in Study Publication DOI of investigation file at column 1 is required',\n",
       "   'code': 4003},\n",
       "  {'message': 'A required property is missing',\n",
       "   'supplemental': 'A property value in Study Person Mid Initials of investigation file at column 1 is required',\n",
       "   'code': 4003},\n",
       "  {'message': 'A required property is missing',\n",
       "   'supplemental': 'A property value in Study Person Mid Initials of investigation file at column 2 is required',\n",
       "   'code': 4003},\n",
       "  {'message': 'A required property is missing',\n",
       "   'supplemental': 'A property value in Study Person Mid Initials of investigation file at column 3 is required',\n",
       "   'code': 4003},\n",
       "  {'message': 'A required property is missing',\n",
       "   'supplemental': 'A property value in Study Person Mid Initials of investigation file at column 4 is required',\n",
       "   'code': 4003},\n",
       "  {'message': 'A required property is missing',\n",
       "   'supplemental': 'A property value in Study Person Mid Initials of investigation file at column 5 is required',\n",
       "   'code': 4003},\n",
       "  {'message': 'A required property is missing',\n",
       "   'supplemental': 'A property value in Study Person Mid Initials of investigation file at column 6 is required',\n",
       "   'code': 4003},\n",
       "  {'message': 'A required property is missing',\n",
       "   'supplemental': 'A property value in Study Person Mid Initials of investigation file at column 7 is required',\n",
       "   'code': 4003},\n",
       "  {'message': 'A required property is missing',\n",
       "   'supplemental': 'A property value in Study Person Mid Initials of investigation file at column 8 is required',\n",
       "   'code': 4003},\n",
       "  {'message': 'A required property is missing',\n",
       "   'supplemental': 'A property value in Study Person Mid Initials of investigation file at column 9 is required',\n",
       "   'code': 4003},\n",
       "  {'message': 'A required property is missing',\n",
       "   'supplemental': 'A property value in Study Person Mid Initials of investigation file at column 10 is required',\n",
       "   'code': 4003},\n",
       "  {'message': 'A value does not correspond to the correct data type',\n",
       "   'supplemental': \"Invalid value 'V6 and V5' for type 'list' of the field 'Parameter Value[target_subfragment]'\",\n",
       "   'code': 4011}],\n",
       " 'info': [{'message': 'Found 2 study groups in s_BII-S-7.txt',\n",
       "   'supplemental': 'Found 2 study groups in s_BII-S-7.txt',\n",
       "   'code': 5001},\n",
       "  {'message': 'Found -1 study groups in a_matteo-assay-Gx.txt',\n",
       "   'supplemental': 'Found -1 study groups in a_matteo-assay-Gx.txt',\n",
       "   'code': 5001}],\n",
       " 'validation_finished': True}"
      ]
     },
     "execution_count": 17,
     "metadata": {},
     "output_type": "execute_result"
    }
   ],
   "source": [
    "my_json_report_bii_s_7"
   ]
  },
  {
   "cell_type": "markdown",
   "metadata": {},
   "source": [
    "- This `Validation Report` shows that No Error has been logged\n",
    "- The rest of the report consists in warnings meant to draw the attention of the curator to elements which may be provided but which do not break the ISA syntax.\n",
    "- Notice the `study group` information reported on both study and assay files. If ISA `Factor Value[]` fields are found present in the `ISA Study` or ` ISA Assay` tables, the validator will try to identify the set of unique `Factor Value` combination defining a `Study Group`.\n",
    "    - When no `Factor Value` are found in a ISA `Study` or `Assay` table, the value is left to its default value: -1, which means that `No Study Group` have been found.\n",
    "    - ISA **strongly** encourages to declare Study Group using ISA Factor Value to unambiguously identify the Independent Variables of an experiment.\n",
    "    "
   ]
  },
  {
   "cell_type": "markdown",
   "metadata": {},
   "source": [
    "## 4. How does a validation failure looks like ?"
   ]
  },
  {
   "cell_type": "markdown",
   "metadata": {},
   "source": [
    "### BII-S-5 contains an error located in the `i_investigation.txt` file of the submission"
   ]
  },
  {
   "cell_type": "code",
   "execution_count": null,
   "metadata": {},
   "outputs": [
    {
     "name": "stderr",
     "output_type": "stream",
     "text": [
      "2021-02-11 13:21:10,776 [INFO]: isatab.py(validate:4196) >> Loading... ./BII-S-5/i_investigation.txt\n",
      "2021-02-11 13:21:10,909 [CRITICAL]: isatab.py(check_labels:1933) >> (F) In INVESTIGATION PUBLICATIONS section, expected labels {'Investigation Publication Author List'} not found in {'Investigation Publication Status', 'Investigation PubMed ID', 'Investigation Publication Author list', 'Investigation Publication Status Term Accession Number', 'Investigation Publication DOI', 'Investigation Publication Status Term Source REF', 'Investigation Publication Title'}\n",
      "2021-02-11 13:21:10,910 [CRITICAL]: isatab.py(check_labels:1940) >> (F) In INVESTIGATION PUBLICATIONS section, label Investigation Publication Author list is not allowed\n",
      "2021-02-11 13:21:10,910 [CRITICAL]: isatab.py(check_labels:1933) >> (F) In STUDY PUBLICATIONS section, expected labels {'Study Publication Author List'} not found in {'Study PubMed ID', 'Study Publication Status Term Accession Number', 'Study Publication Status', 'Study Publication Author list', 'Study Publication Title', 'Study Publication Status Term Source REF', 'Study Publication DOI'}\n",
      "2021-02-11 13:21:10,911 [CRITICAL]: isatab.py(check_labels:1940) >> (F) In STUDY PUBLICATIONS section, label Study Publication Author list is not allowed\n",
      "2021-02-11 13:21:10,911 [INFO]: isatab.py(validate:4198) >> Running prechecks...\n",
      "2021-02-11 13:21:10,981 [WARNING]: isatab.py(check_protocol_usage:2513) >> (W) Some protocols declared in the investigation file are not used neither in the study file s_001456_GCAT_sample.txt nor in any related assay file: ['sample collection']\n",
      "2021-02-11 13:21:11,011 [WARNING]: isatab.py(check_doi:2166) >> (W) DOI 10.1186/1471-2164-10-36 does not conform to DOI format\n",
      "2021-02-11 13:21:11,012 [INFO]: isatab.py(validate:4219) >> Finished prechecks...\n",
      "2021-02-11 13:21:11,012 [INFO]: isatab.py(validate:4220) >> Loading configurations found in /Users/massi/.pyenv/versions/3.9.1/envs/isa-cookbook-3.9.1/src/isatools/isatools/resources/config/xml\n",
      "2021-02-11 13:21:11,033 [INFO]: isatab.py(validate:4225) >> Using configurations found in /Users/massi/.pyenv/versions/3.9.1/envs/isa-cookbook-3.9.1/src/isatools/isatools/resources/config/xml\n",
      "2021-02-11 13:21:11,034 [INFO]: isatab.py(validate:4227) >> Checking investigation file against configuration...\n",
      "2021-02-11 13:21:11,036 [WARNING]: isatab.py(check_section_against_required_fields_one_value:3353) >> (W) A property value in Study Person Mid Initials of investigation file at column 1 is required\n",
      "2021-02-11 13:21:11,038 [INFO]: isatab.py(validate:4230) >> Finished checking investigation file\n",
      "2021-02-11 13:21:11,038 [INFO]: isatab.py(validate:4249) >> Loading... s_001456_GCAT_sample.txt\n",
      "2021-02-11 13:21:11,050 [INFO]: isatab.py(validate:4255) >> Validating s_001456_GCAT_sample.txt against default study table configuration\n",
      "2021-02-11 13:21:11,050 [INFO]: isatab.py(validate:4257) >> Checking Factor Value presence...\n"
     ]
    }
   ],
   "source": [
    "my_json_report_bii_s_5 = isatab.validate(open(os.path.join('./BII-S-5/', 'i_investigation.txt')))"
   ]
  },
  {
   "cell_type": "code",
   "execution_count": null,
   "metadata": {},
   "outputs": [],
   "source": [
    "my_json_report_bii_s_5[\"errors\"]"
   ]
  },
  {
   "cell_type": "markdown",
   "metadata": {},
   "source": [
    "- The Validator report the Error Array is not empty and shows the root cause of the syntactic validator error.\n",
    "- There is a typo in the Investigation file which affects 2 positions on the file for both Investigation and Study Object: \n",
    "<span style=\"color:red\">Publication **l**ist</span>. vs <span style=\"color:green\">Publication **L**ist</span>"
   ]
  },
  {
   "cell_type": "markdown",
   "metadata": {},
   "source": [
    "## About this notebook\n",
    "\n",
    "- authors: philippe.rocca-serra@oerc.ox.ac.uk, massimiliano.izzo@oerc.ox.ac.uk\n",
    "- license: CC-BY 4.0\n",
    "- support: isatools@googlegroups.com\n",
    "- issue tracker: https://github.com/ISA-tools/isa-api/issues"
   ]
  }
 ],
 "metadata": {
  "kernelspec": {
   "display_name": "Python 3",
   "language": "python",
   "name": "python3"
  },
  "language_info": {
   "codemirror_mode": {
    "name": "ipython",
    "version": 3
   },
   "file_extension": ".py",
   "mimetype": "text/x-python",
   "name": "python",
   "nbconvert_exporter": "python",
   "pygments_lexer": "ipython3",
   "version": "3.9.1"
  }
 },
 "nbformat": 4,
 "nbformat_minor": 4
}
