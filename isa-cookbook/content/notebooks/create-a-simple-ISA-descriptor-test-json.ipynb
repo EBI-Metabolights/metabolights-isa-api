{
 "cells": [
  {
   "cell_type": "markdown",
   "metadata": {},
   "source": [
    "# Create a simple ISA descriptor\n",
    "\n",
    "This example creates minimal metadata for a single study ISA descriptor with no assay declared. \n",
    "\n",
    "It shows how to serialize (write) the ISA Model content to ISA-Tab and ISA-JSON formats."
   ]
  },
  {
   "cell_type": "code",
   "execution_count": null,
   "metadata": {},
   "outputs": [],
   "source": [
    "# If executing the notebooks on `Google Colab`,uncomment the following command \n",
    "# and run it to install the required python libraries. Also, make the test datasets available.\n",
    "\n",
    "# !pip install -r requirements.txt"
   ]
  },
  {
   "cell_type": "code",
   "execution_count": null,
   "metadata": {},
   "outputs": [],
   "source": [
    "from isatools.model import (\n",
    "    Comment,\n",
    "    Investigation,\n",
    "    Study,\n",
    "    StudyFactor,\n",
    "    FactorValue,\n",
    "    OntologyAnnotation,\n",
    "    Material,\n",
    "    Sample,\n",
    "    Source,\n",
    "    Protocol,\n",
    "    ProtocolParameter,\n",
    "    ProtocolComponent,\n",
    "    ParameterValue,\n",
    "    Process,\n",
    "    Publication,\n",
    "    Person,\n",
    "    Assay,\n",
    "    DataFile,\n",
    "    plink\n",
    ")\n",
    "import datetime"
   ]
  },
  {
   "cell_type": "markdown",
   "metadata": {},
   "source": [
    "## Study metadata"
   ]
  },
  {
   "cell_type": "code",
   "execution_count": null,
   "metadata": {},
   "outputs": [],
   "source": [
    "investigation = Investigation()\n",
    "i_comment = Comment(name=\"i_comment\", value=\"i_value\")\n",
    "investigation.comments.append(i_comment)\n",
    "study = Study(filename=\"s_study.txt\")\n",
    "st_comment = Comment(name=\"st_comment\", value=\"st_value\")\n",
    "study.comments.append(st_comment)\n",
    "study.identifier = \"S1\"\n",
    "study.title = \"My Simple ISA Study\"\n",
    "study.description = \"We could alternatively use the class constructor's parameters to set some default \" \\\n",
    "          \"values at the time of creation, however we want to demonstrate how to use the \" \\\n",
    "          \"object's instance variables to set values.\"\n",
    "study.submission_date = str(datetime.datetime.today())\n",
    "study.public_release_date = str(datetime.datetime.today())\n",
    "study.sources = [Source(name=\"source1\")]\n",
    "src_comment = Comment(name=\"src_comment\", value=\"src_value\")\n",
    "study.sources[0].comments.append(src_comment)\n",
    "smp_comment = Comment(name=\"smp_comment\", value=\"smp_value\")\n",
    "study.samples = [Sample(name=\"sample1\")]\n",
    "study.samples[0].comments.append(smp_comment)\n",
    "\n",
    "\n",
    "study.protocols = [\n",
    "    Protocol(name=\"sample collection\",\n",
    "             components=[\n",
    "                ProtocolComponent(name=\"magnetic agitator\",\n",
    "                component_type=OntologyAnnotation(term=\"device\"))]),\n",
    "    Protocol(\n",
    "        name=\"data analysis with Galaxy\",\n",
    "        uri=\"https://doi.org/10.5464/workflow.cwl\",\n",
    "        protocol_type=OntologyAnnotation(term=\"data transformation\"),\n",
    "        parameters=[\n",
    "            ProtocolParameter(parameter_name=OntologyAnnotation(term=\"genome assembly\")),\n",
    "            ProtocolParameter(parameter_name=OntologyAnnotation(term=\"cut-off value\"))\n",
    "        ],\n",
    "    ),\n",
    "    Protocol(\n",
    "        name=\"data visualization with Intermine\",\n",
    "        uri=\"https://intermine.org/10.5464/network.svg\",\n",
    "        protocol_type=OntologyAnnotation(term=\"data visualization\"),\n",
    "        comments=[Comment(name=\"pro_comment\", value=\"pro_value\")]\n",
    "    )\n",
    "]\n",
    "\n",
    "study.factors = [\n",
    "    StudyFactor(name=\"Factor\",factor_type=OntologyAnnotation(term=\"factor category\"))\n",
    "]\n",
    "\n",
    "\n",
    "study.publications = [\n",
    "    Publication(doi=\"10.12314\",pubmed_id=\"1222322\", title=\"publication title\")\n",
    "    \n",
    "]\n",
    "\n",
    "study.contacts = [\n",
    "    Person(first_name=\"bob\", last_name=\"hughes\", affiliation=\"WHO\", email=\"bob.hughes@who.else\",\n",
    "           comments=[Comment(name=\"per_comment\", value=\"per_value\")]\n",
    "    )\n",
    "]\n",
    "\n",
    "study.process_sequence = [\n",
    "    Process(\n",
    "        executes_protocol=study.protocols[-1],\n",
    "        inputs=[study.sources[-1]],\n",
    "        outputs=[study.samples[-1]]\n",
    "    )\n",
    "]\n",
    "investigation.studies = [study]\n",
    "\n"
   ]
  },
  {
   "cell_type": "code",
   "execution_count": null,
   "metadata": {},
   "outputs": [],
   "source": [
    "# Next, we build n Assay object and attach two protocols, extraction and sequencing.\n",
    "\n",
    "assay = Assay(filename=\"a_assay.txt\")\n",
    "\n",
    "extraction_protocol = Protocol(name='extraction', protocol_type=OntologyAnnotation(term=\"material extraction\"))\n",
    "study.protocols.append(extraction_protocol)\n",
    "\n",
    "sequencing_protocol = Protocol(name='sequencing', protocol_type=OntologyAnnotation(term=\"material sequencing\"))\n",
    "study.protocols.append(sequencing_protocol)\n",
    "\n",
    "# To build out assay graphs, we enumereate the samples from the study-level, and for each sample we create an\n",
    "# extraction process and a sequencing process. The extraction process takes as input a sample material, and produces\n",
    "# an extract material. The sequencing process takes the extract material and produces a data file. This will\n",
    "# produce three graphs, from sample material through to data, as follows:\n",
    "#\n",
    "# (sample_material-0)->(extraction)->(extract-0)->(sequencing)->(sequenced-data-0)\n",
    "# (sample_material-1)->(extraction)->(extract-1)->(sequencing)->(sequenced-data-1)\n",
    "# (sample_material-2)->(extraction)->(extract-2)->(sequencing)->(sequenced-data-2)\n",
    "#\n",
    "# Note that the extraction processes and sequencing processes are distinctly separate instances, where the three\n",
    "# graphs are NOT interconnected.\n",
    "\n",
    "for i, sample in enumerate(study.samples):\n",
    "\n",
    "    # create an extraction process that executes the extraction protocol\n",
    "\n",
    "    extraction_process = Process(executes_protocol=extraction_protocol)\n",
    "\n",
    "    # extraction process takes as input a sample, and produces an extract material as output\n",
    "\n",
    "    extraction_process.inputs.append(sample)\n",
    "    material = Material(name=\"extract-{}\".format(i))\n",
    "    mat_comment = Comment(name=\"mat_comment\", value=\"mat_value\")\n",
    "    material.comments.append(mat_comment)\n",
    "    material.type = \"Extract Name\"\n",
    "    extraction_process.outputs.append(material)\n",
    "\n",
    "    # create a sequencing process that executes the sequencing protocol\n",
    "\n",
    "    sequencing_process = Process(executes_protocol=sequencing_protocol)\n",
    "    sequencing_process.name = \"assay-name-{}\".format(i)\n",
    "    sequencing_process.inputs.append(extraction_process.outputs[0])\n",
    "\n",
    "    # Sequencing process usually has an output data file\n",
    "\n",
    "    datafile = DataFile(filename=\"sequenced-data-{}\".format(i), label=\"Raw Data File\")\n",
    "    data_comment =  Comment(name=\"data_comment\",value=\"data_value\")\n",
    "    datafile.comments.append(data_comment)\n",
    "    sequencing_process.outputs.append(datafile)\n",
    "\n",
    "    # Ensure Processes are linked forward and backward. plink(from_process, to_process) is a function to set\n",
    "    # these links for you. It is found in the isatools.model package\n",
    "\n",
    "    plink(extraction_process, sequencing_process)\n",
    "\n",
    "    # make sure the extract, data file, and the processes are attached to the assay\n",
    "\n",
    "    assay.data_files.append(datafile)\n",
    "    assay.samples.append(sample)\n",
    "    assay.other_material.append(material)\n",
    "    assay.process_sequence.append(extraction_process)\n",
    "    assay.process_sequence.append(sequencing_process)\n",
    "    assay.measurement_type = OntologyAnnotation(term=\"genome sequencing\")\n",
    "    assay.technology_type = OntologyAnnotation(term=\"nucleotide sequencing\")\n",
    "\n",
    "    \n",
    "study.assays.append(assay)"
   ]
  },
  {
   "cell_type": "code",
   "execution_count": null,
   "metadata": {},
   "outputs": [],
   "source": [
    "# Let's see the object :\n",
    "investigation"
   ]
  },
  {
   "cell_type": "markdown",
   "metadata": {},
   "source": [
    "## Writing to ISA-Tab"
   ]
  },
  {
   "cell_type": "code",
   "execution_count": null,
   "metadata": {},
   "outputs": [],
   "source": [
    "from isatools.isatab import dumps\n",
    "print(dumps(investigation))"
   ]
  },
  {
   "cell_type": "markdown",
   "metadata": {},
   "source": [
    "## Writing to ISA-JSON"
   ]
  },
  {
   "cell_type": "code",
   "execution_count": null,
   "metadata": {},
   "outputs": [],
   "source": [
    "import json\n",
    "from isatools.isajson import ISAJSONEncoder\n",
    "print(json.dumps(investigation, cls=ISAJSONEncoder, sort_keys=True, indent=4, separators=(',', ': ')))"
   ]
  },
  {
   "cell_type": "code",
   "execution_count": null,
   "metadata": {},
   "outputs": [],
   "source": [
    "import os\n",
    "from isatools import isatab \n",
    "# with open(os.path.join('./BII-I-1/', 'i_investigation.txt')) as fp:\n",
    "#w ith open(os.path.join('./BII-S-3/', 'i_gilbert.txt')) as fp:\n",
    "# with open(os.path.join('./BII-S-4/', 'i_investigation.txt')) as fp:\n",
    "# with open(os.path.join('./BII-S-7/', 'i_matteo.txt')) as fp:\n",
    "with open(os.path.join('./BII-S-8_FP001RO-isatab-TEST/', 'i_fp001ro-investigation.txt')) as fp:\n",
    "            ISA = isatab.load(fp)"
   ]
  },
  {
   "cell_type": "code",
   "execution_count": null,
   "metadata": {},
   "outputs": [],
   "source": [
    "from isatools.isatab import dumps\n",
    "print(dumps(ISA))"
   ]
  },
  {
   "cell_type": "markdown",
   "metadata": {},
   "source": [
    "## About this notebook\n",
    "\n",
    "- authors: philippe.rocca-serra@oerc.ox.ac.uk, massimiliano.izzo@oerc.ox.ac.uk\n",
    "- license: CC-BY 4.0\n",
    "- support: isatools@googlegroups.com\n",
    "- issue tracker: https://github.com/ISA-tools/isa-api/issues"
   ]
  },
  {
   "cell_type": "code",
   "execution_count": null,
   "metadata": {},
   "outputs": [],
   "source": []
  }
 ],
 "metadata": {
  "kernelspec": {
   "display_name": "isa-api-py39",
   "language": "python",
   "name": "isa-api-py39"
  },
  "language_info": {
   "codemirror_mode": {
    "name": "ipython",
    "version": 3
   },
   "file_extension": ".py",
   "mimetype": "text/x-python",
   "name": "python",
   "nbconvert_exporter": "python",
   "pygments_lexer": "ipython3",
   "version": "3.9.0"
  }
 },
 "nbformat": 4,
 "nbformat_minor": 1
}
