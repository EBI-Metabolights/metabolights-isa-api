{
 "cells": [
  {
   "cell_type": "markdown",
   "source": [
    "# Querying ISA investigations with SparQL and GraphQL\n",
    "\n",
    "## Abstract\n",
    "The ISA api comes packaged with a graphQL interface and a JSON-LD serializer to help users query investigations.\n",
    "The aim of this notebook is to:\n",
    "   - learn to load an ISA Investigation from a json file.\n",
    "   - learn to execute a graphQL query on the ISA Investigation.\n",
    "   - learn to serialize an ISA Investigation to JSON-LD with different contexts\n",
    "   - generate an RDF graph from the JSON-LD\n",
    "   - execute a sparQL query on that graph.\n",
    "\n",
    "To illustrate this notebook, we will try to get the names of all the protocols types stored in an ISA investigation.\n",
    "\n",
    "## 1. Getting the tools"
   ],
   "metadata": {
    "collapsed": false
   }
  },
  {
   "cell_type": "code",
   "execution_count": null,
   "outputs": [],
   "source": [
    "# Let's first import all the packages we need"
   ],
   "metadata": {
    "collapsed": false
   }
  },
  {
   "cell_type": "code",
   "execution_count": null,
   "outputs": [],
   "source": [
    "from os import path\n",
    "import json\n",
    "\n",
    "from rdflib import Graph, Namespace\n",
    "\n",
    "from isatools.isajson import load\n",
    "from isatools.model import set_context"
   ],
   "metadata": {
    "collapsed": false
   }
  },
  {
   "cell_type": "markdown",
   "source": [
    "## 2. Reading and loading an ISA Investigation in memory from an ISA-JSON instance"
   ],
   "metadata": {
    "collapsed": false
   }
  },
  {
   "cell_type": "code",
   "execution_count": null,
   "outputs": [],
   "source": [
    "filepath = path.join('json', 'BII-S-3', 'BII-S-3.json')\n",
    "with open(filepath, 'r') as f:\n",
    "    investigation = load(f)"
   ],
   "metadata": {
    "collapsed": false
   }
  },
  {
   "cell_type": "markdown",
   "source": [],
   "metadata": {
    "collapsed": false
   }
  },
  {
   "cell_type": "markdown",
   "source": [
    "## 3. Write a graphQL query"
   ],
   "metadata": {
    "collapsed": false
   }
  },
  {
   "cell_type": "code",
   "execution_count": null,
   "outputs": [],
   "source": [
    "query = \"\"\"\n",
    "{\n",
    "    studies {\n",
    "        protocols {\n",
    "            type: protocolType { annotationValue }\n",
    "        }\n",
    "    }\n",
    "}\n",
    "\"\"\"\n",
    "protocols_graphql = []\n",
    "results = investigation.execute_query(query)\n",
    "for study in results.data['studies']:\n",
    "    protocols = study['protocols']\n",
    "    for protocol in protocols:\n",
    "        value = protocol['type']['annotationValue']\n",
    "        if value not in protocols_graphql:\n",
    "            protocols_graphql.append(value)\n",
    "print(protocols_graphql)"
   ],
   "metadata": {
    "collapsed": false
   }
  },
  {
   "cell_type": "markdown",
   "source": [
    "## 4. Setting options for the contexts binding"
   ],
   "metadata": {
    "collapsed": false
   }
  },
  {
   "cell_type": "code",
   "execution_count": null,
   "outputs": [],
   "source": [
    "set_context(new_context='wdt', combine=False, local=False)"
   ],
   "metadata": {
    "collapsed": false
   }
  },
  {
   "cell_type": "markdown",
   "source": [
    "The `set_context()` method takes three parameters:\n",
    "    - new_context: to choose the vocabulary to use between `sdo`, `obo` and `wdt`\n",
    "    - combine: if `True`, only one context will be used\n",
    "    - local: if `True`, uses local files else the GitHub contexts"
   ],
   "metadata": {
    "collapsed": false
   }
  },
  {
   "cell_type": "markdown",
   "source": [
    "## 5. Generate a JSON-LD serialization"
   ],
   "metadata": {
    "collapsed": false
   }
  },
  {
   "cell_type": "code",
   "execution_count": null,
   "outputs": [],
   "source": [
    "ld = investigation.to_dict(ld=True)"
   ],
   "metadata": {
    "collapsed": false
   }
  },
  {
   "cell_type": "markdown",
   "source": [
    "The investigation can be serialized to json with the `to_dict()` method. By passing the optional parameter `ld=True`, the serializer binds the `@type`, `@context` and `@id` to each object in the JSON."
   ],
   "metadata": {
    "collapsed": false
   }
  },
  {
   "cell_type": "markdown",
   "source": [
    "## 6. Generate an RDF graph\n",
    "\n",
    "Before we can generate a graph we need to create the proper namespaces and transform the `ld` variable into a string"
   ],
   "metadata": {
    "collapsed": false
   }
  },
  {
   "cell_type": "code",
   "execution_count": null,
   "outputs": [],
   "source": [
    "# Creating the namespace\n",
    "WDT = Namespace(\"http://www.wikidata.org/wiki/\")\n",
    "WDTP = Namespace('https://www.wikidata.org/wiki/Property:')\n",
    "ISA = Namespace('https://isa.org/')\n",
    "\n",
    "ld_string = json.dumps(ld) # Get a string representation of the ld variable\n",
    "graph = Graph() # Create an empty graph\n",
    "graph.parse(data=ld_string, format='json-ld') # Load the data into the graph\n",
    "\n",
    "# Finally, bind the namespaces to the graph\n",
    "graph.bind('wdt', WDT)\n",
    "graph.bind('isa', ISA)\n",
    "graph.bind('wdtp', WDTP)"
   ],
   "metadata": {
    "collapsed": false
   }
  },
  {
   "cell_type": "markdown",
   "source": [
    "## 7. Create a small sparQL query and execute it"
   ],
   "metadata": {
    "collapsed": false
   }
  },
  {
   "cell_type": "code",
   "execution_count": null,
   "outputs": [],
   "source": [
    "query = \"\"\"\n",
    "PREFIX rdf: <http://www.w3.org/1999/02/22-rdf-syntax-ns#>\n",
    "PREFIX owl: <http://www.w3.org/2002/07/owl#>\n",
    "PREFIX rdfs: <http://www.w3.org/2000/01/rdf-schema#>\n",
    "PREFIX xsd: <http://www.w3.org/2001/XMLSchema#>\n",
    "PREFIX wdtp: <https://www.wikidata.org/wiki/Property:>\n",
    "PREFIX wdt: <http://www.wikidata.org/wiki/>\n",
    "\n",
    "SELECT distinct ?protocolTypeName\n",
    "WHERE {\n",
    "    ?p rdf:type wdt:Q41689629 . # Is a protocol\n",
    "    ?p wdtp:P7793 ?protocolType .\n",
    "    ?protocolType wdtp:P527 ?protocolTypeName . # Get each protocol type name\n",
    "    FILTER (?protocolTypeName!=\"\"^^wdt:Q1417099) # Filter out empty protocol type name\n",
    "}\n",
    "\"\"\"\n",
    "protocols_sparql = []\n",
    "for node in graph.query(query):\n",
    "    n = node.asdict()\n",
    "    for fieldName in n:\n",
    "        fieldVal = str(n[fieldName].toPython())\n",
    "        if fieldVal not in protocols_sparql:\n",
    "            protocols_sparql.append(fieldVal)\n",
    "print(protocols_sparql)\n",
    "assert(protocols_sparql == protocols_graphql)"
   ],
   "metadata": {
    "collapsed": false
   }
  }
 ],
 "metadata": {
  "kernelspec": {
   "display_name": "Python 3",
   "language": "python",
   "name": "python3"
  },
  "language_info": {
   "codemirror_mode": {
    "name": "ipython",
    "version": 2
   },
   "file_extension": ".py",
   "mimetype": "text/x-python",
   "name": "python",
   "nbconvert_exporter": "python",
   "pygments_lexer": "ipython2",
   "version": "2.7.6"
  }
 },
 "nbformat": 4,
 "nbformat_minor": 0
}
